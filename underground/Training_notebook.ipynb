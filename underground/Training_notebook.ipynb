{
 "cells": [
  {
   "cell_type": "code",
   "execution_count": 1,
   "id": "40d37bcf-67ee-4caa-a6ee-0231f04c79b8",
   "metadata": {},
   "outputs": [],
   "source": [
    "import os\n",
    "import numpy as np\n",
    "import matplotlib.pyplot as plt\n",
    "import random\n",
    "from glob import glob\n",
    "import tifffile\n",
    "import torch\n",
    "from torch.utils.data import Dataset\n",
    "from torch.utils.data import DataLoader\n",
    "import datetime\n",
    "from torch.utils.tensorboard import SummaryWriter\n",
    "from torchsummary import summary\n",
    "from tqdm import tqdm\n",
    "torch.backends.cudnn.benchmark = True"
   ]
  },
  {
   "cell_type": "markdown",
   "id": "b08ad0e8-9bd1-4100-85bf-0af33b592228",
   "metadata": {},
   "source": [
    "### Creating a Dataset class"
   ]
  },
  {
   "cell_type": "code",
   "execution_count": 2,
   "id": "43a192c5-22f2-4194-907b-0995caa1e9e3",
   "metadata": {},
   "outputs": [],
   "source": [
    "class EmbryoNucleiDataset(Dataset):\n",
    "    def __init__(self,\n",
    "                 root_dir,\n",
    "                ):\n",
    "        \n",
    "        # using root_dir, split and mask create a path to files and sort it \n",
    "        self.mask_files = sorted(glob(os.path.join(root_dir, 'cropped_masks', '*.tif'))) # load mask files into sorted list\n",
    "        self.raw_files = sorted(glob(os.path.join(root_dir, 'cropped_rawfiles', '*.tif'))) # load image files into sorted list\n",
    "        \n",
    "    \n",
    "    def __len__(self):\n",
    "        #return len(self.raw_files)\n",
    "        return 5000\n",
    "\n",
    "    def __getitem__(self, idx):   \n",
    "        raw_file = self.raw_files[idx] \n",
    "        mask_file = self.mask_files[idx] \n",
    "        crops_raw = tifffile.imread(raw_file) # load raw to numpy array\n",
    "        crops_mask = tifffile.imread(mask_file) # load mask to numpy array\n",
    "        crops_mask = (crops_mask !=0).astype(np.float32)\n",
    "        crops_raw = ((crops_raw.astype(np.float32))/65535) * crops_mask\n",
    "        \n",
    "        # add channel dimensions to comply with pytorch standard (B, C, H, W) \n",
    "        crops_raw = np.expand_dims(crops_raw, axis=0)\n",
    "        crops_mask = np.expand_dims(crops_mask, axis=0)\n",
    "        \n",
    "        return crops_raw, crops_mask"
   ]
  },
  {
   "cell_type": "markdown",
   "id": "bbabeb4b-2073-4e51-9033-cdfb1e8d22ce",
   "metadata": {},
   "source": [
    "### Creating Autoencoder"
   ]
  },
  {
   "cell_type": "code",
   "execution_count": 3,
   "id": "015211c4-1793-4b3c-a578-a68d59e09fec",
   "metadata": {},
   "outputs": [],
   "source": [
    "class Autoencoder(torch.nn.Module):\n",
    "    def __init__(\n",
    "            self,\n",
    "            in_channels,\n",
    "            downsampling_factors,\n",
    "            fmaps,\n",
    "            fmul,\n",
    "            kernel_size=3):\n",
    "\n",
    "        super(Autoencoder, self).__init__()\n",
    "\n",
    "        out_channels = in_channels\n",
    "\n",
    "        encoder = []\n",
    "\n",
    "        for downsampling_factor in downsampling_factors:\n",
    "\n",
    "            encoder.append(\n",
    "                    torch.nn.Conv2d(\n",
    "                        in_channels,\n",
    "                        fmaps,\n",
    "                        kernel_size))\n",
    "            encoder.append(\n",
    "                    torch.nn.ReLU(inplace=True))\n",
    "            encoder.append(\n",
    "                    torch.nn.Conv2d(\n",
    "                        fmaps,\n",
    "                        fmaps,\n",
    "                        kernel_size))\n",
    "            encoder.append(\n",
    "                    torch.nn.ReLU(inplace=True))\n",
    "            encoder.append(\n",
    "                    torch.nn.MaxPool2d(downsampling_factor))\n",
    "\n",
    "            in_channels = fmaps\n",
    "\n",
    "            fmaps = fmaps * fmul\n",
    "\n",
    "        fmaps_bottle = fmaps\n",
    "\n",
    "        encoder.append(\n",
    "            torch.nn.Conv2d(\n",
    "                in_channels,\n",
    "                fmaps_bottle,\n",
    "                kernel_size))\n",
    "        encoder.append(\n",
    "            torch.nn.ReLU(inplace=True))\n",
    "\n",
    "        self.encoder = torch.nn.Sequential(*encoder)\n",
    "\n",
    "        decoder = []\n",
    "\n",
    "        fmaps = in_channels\n",
    "\n",
    "        decoder.append(\n",
    "            torch.nn.Conv2d(\n",
    "                fmaps_bottle,\n",
    "                fmaps,\n",
    "                kernel_size))\n",
    "        decoder.append(\n",
    "            torch.nn.ReLU(inplace=True))\n",
    "\n",
    "        for downsampling_factor in downsampling_factors[::-1]:\n",
    "\n",
    "            fmaps = in_channels // fmul\n",
    "\n",
    "            decoder.append(\n",
    "                torch.nn.Upsample(\n",
    "                    scale_factor=downsampling_factor,\n",
    "                    mode='bilinear'))\n",
    "            decoder.append(\n",
    "                torch.nn.Conv2d(\n",
    "                    in_channels,\n",
    "                    fmaps,\n",
    "                    kernel_size))\n",
    "            decoder.append(\n",
    "                torch.nn.ReLU(inplace=True))\n",
    "            decoder.append(\n",
    "                torch.nn.Conv2d(\n",
    "                    fmaps,\n",
    "                    fmaps,\n",
    "                    kernel_size))\n",
    "            decoder.append(\n",
    "                torch.nn.ReLU(inplace=True))\n",
    "\n",
    "            in_channels = fmaps\n",
    "\n",
    "        decoder.append(\n",
    "            torch.nn.Conv2d(\n",
    "                in_channels,\n",
    "                out_channels,\n",
    "                kernel_size))\n",
    "\n",
    "        self.decoder = torch.nn.Sequential(*decoder)\n",
    "\n",
    "    def forward(self, x):\n",
    "\n",
    "        enc = self.encoder(x)\n",
    "\n",
    "        dec = self.decoder(enc)\n",
    "\n",
    "        return enc, dec\n",
    "        \n"
   ]
  },
  {
   "cell_type": "markdown",
   "id": "5d250cf0-04ac-4065-9776-fc2cc0bea19a",
   "metadata": {},
   "source": [
    "### Training Time ! "
   ]
  },
  {
   "cell_type": "code",
   "execution_count": 4,
   "id": "86f9571c-b030-413b-aa2e-b10f2110a40f",
   "metadata": {},
   "outputs": [],
   "source": [
    "# identifying params for training\n",
    "batch_size = 64\n",
    "crop_size = 156\n",
    "num_epochs = 50\n",
    "model_depth = 1\n",
    "downsampling_factor = 2\n",
    "root_dir = '/mnt/efs/shared_data/instance_no_gt/20230830_TIF_cellpose_test/'\n",
    "assert torch.cuda.is_available()\n",
    "device = torch.device(\"cuda\")"
   ]
  },
  {
   "cell_type": "code",
   "execution_count": 5,
   "id": "35176614-4dbb-42ca-ade7-f5ba5e37a2a3",
   "metadata": {},
   "outputs": [
    {
     "name": "stdout",
     "output_type": "stream",
     "text": [
      "----------------------------------------------------------------\n",
      "        Layer (type)               Output Shape         Param #\n",
      "================================================================\n",
      "            Conv2d-1         [-1, 32, 154, 154]             320\n",
      "              ReLU-2         [-1, 32, 154, 154]               0\n",
      "            Conv2d-3         [-1, 32, 152, 152]           9,248\n",
      "              ReLU-4         [-1, 32, 152, 152]               0\n",
      "         MaxPool2d-5           [-1, 32, 76, 76]               0\n",
      "            Conv2d-6           [-1, 64, 74, 74]          18,496\n",
      "              ReLU-7           [-1, 64, 74, 74]               0\n",
      "            Conv2d-8           [-1, 32, 72, 72]          18,464\n",
      "              ReLU-9           [-1, 32, 72, 72]               0\n",
      "         Upsample-10         [-1, 32, 144, 144]               0\n",
      "           Conv2d-11         [-1, 16, 142, 142]           4,624\n",
      "             ReLU-12         [-1, 16, 142, 142]               0\n",
      "           Conv2d-13         [-1, 16, 140, 140]           2,320\n",
      "             ReLU-14         [-1, 16, 140, 140]               0\n",
      "           Conv2d-15          [-1, 1, 138, 138]             145\n",
      "================================================================\n",
      "Total params: 53,617\n",
      "Trainable params: 53,617\n",
      "Non-trainable params: 0\n",
      "----------------------------------------------------------------\n",
      "Input size (MB): 0.09\n",
      "Forward/backward pass size (MB): 47.07\n",
      "Params size (MB): 0.20\n",
      "Estimated Total Size (MB): 47.36\n",
      "----------------------------------------------------------------\n"
     ]
    }
   ],
   "source": [
    "model = Autoencoder(in_channels=1, downsampling_factors=[downsampling_factor]*model_depth, fmaps=32, fmul=2, kernel_size = 3).to(device)\n",
    "summary(model, (1, 156, 156))"
   ]
  },
  {
   "cell_type": "code",
   "execution_count": 6,
   "id": "2a75eaec-3156-45e0-9033-9c236c2ec496",
   "metadata": {},
   "outputs": [],
   "source": [
    "# create a logdir for each run and a corresponding summary writer\n",
    "logdir = os.path.join(\"logs\", datetime.datetime.now().strftime(\"%Y%m%d-%H%M%S\"))\n",
    "writer = SummaryWriter(logdir)"
   ]
  },
  {
   "cell_type": "code",
   "execution_count": 11,
   "id": "56596df7-0a9a-4ced-a71d-0d030928261b",
   "metadata": {
    "scrolled": true
   },
   "outputs": [],
   "source": [
    "def train():\n",
    "    # create train dataset\n",
    "    dataset = EmbryoNucleiDataset(root_dir)\n",
    "\n",
    "    # create train dataloader\n",
    "    dataloader = DataLoader(dataset, batch_size=batch_size, shuffle=True, pin_memory=True)\n",
    "\n",
    "    # create model\n",
    "    model = Autoencoder(in_channels=1, downsampling_factors=[downsampling_factor]*model_depth,\n",
    "        fmaps=32, fmul=2, kernel_size = 3)\n",
    "\n",
    "    # create loss object\n",
    "    loss_function = torch.nn.MSELoss()\n",
    "\n",
    "    # create optimizer\n",
    "    optimizer = torch.optim.Adam(model.parameters())\n",
    "    \n",
    "    for epoch in tqdm(range(num_epochs), position=0, leave=True):\n",
    "        train_epoch(dataloader, model, epoch, optimizer, loss_function)\n",
    "\n",
    "def train_epoch(dataloader, model, epoch, optimizer, loss_function, log_image_interval = 20):\n",
    "    model.train()\n",
    "    model = model.to(device)\n",
    "    loss_list = []  \n",
    "    \n",
    "    for batch_id, (raw, mask) in enumerate(tqdm(dataloader, position=0, leave=True)):\n",
    "        raw = raw.to(device) # move to GPU\n",
    "        optimizer.zero_grad()\n",
    "        _, prediction = model(raw)\n",
    "        reduction = raw.shape[2] - prediction.shape[2]\n",
    "        raw = raw[:, :, reduction//2:-reduction//2, reduction//2:-reduction//2]\n",
    "        loss = loss_function(prediction, raw)\n",
    "        step = epoch * len(dataloader) + batch_id\n",
    "        writer.add_scalar('train loss',loss.item(), step)\n",
    "        loss_list.append(loss.item())\n",
    "        loss.backward()\n",
    "        optimizer.step()\n",
    "        \n",
    "        if step % log_image_interval == 0:\n",
    "            writer.add_images(\n",
    "                tag=\"input\", img_tensor=raw.to(\"cpu\"), global_step=step\n",
    "            )\n",
    "            writer.add_images(\n",
    "                tag=\"prediction\",\n",
    "                img_tensor=prediction.to(\"cpu\").detach(),\n",
    "                global_step=step,\n",
    "            )\n",
    "    loss_list = np.array(loss_list)\n",
    "    print(f\"Loss at Epoch {epoch} is {loss_list.mean()}\")"
   ]
  },
  {
   "cell_type": "code",
   "execution_count": 12,
   "id": "02e25b0d-7380-440b-8daf-c7c11f9f1653",
   "metadata": {},
   "outputs": [
    {
     "name": "stderr",
     "output_type": "stream",
     "text": [
      "  0%|                                                                                                         | 0/50 [00:00<?, ?it/s]"
     ]
    },
    {
     "name": "stdout",
     "output_type": "stream",
     "text": [
      "0\n"
     ]
    },
    {
     "name": "stderr",
     "output_type": "stream",
     "text": [
      "100%|████████████████████████████████████████████████████████████████████████████████████████████████| 79/79 [00:30<00:00,  2.58it/s]\n",
      "  2%|█▉                                                                                               | 1/50 [00:30<25:03, 30.68s/it]"
     ]
    },
    {
     "name": "stdout",
     "output_type": "stream",
     "text": [
      "Loss at Epoch 0 is 0.0005759414837288941\n",
      "1\n"
     ]
    },
    {
     "name": "stderr",
     "output_type": "stream",
     "text": [
      "100%|████████████████████████████████████████████████████████████████████████████████████████████████| 79/79 [00:28<00:00,  2.81it/s]\n",
      "  4%|███▉                                                                                             | 2/50 [00:58<23:19, 29.16s/it]"
     ]
    },
    {
     "name": "stdout",
     "output_type": "stream",
     "text": [
      "Loss at Epoch 1 is 5.953174935067308e-05\n",
      "2\n"
     ]
    },
    {
     "name": "stderr",
     "output_type": "stream",
     "text": [
      "100%|████████████████████████████████████████████████████████████████████████████████████████████████| 79/79 [00:25<00:00,  3.11it/s]\n",
      "  6%|█████▊                                                                                           | 3/50 [01:24<21:29, 27.44s/it]"
     ]
    },
    {
     "name": "stdout",
     "output_type": "stream",
     "text": [
      "Loss at Epoch 2 is 3.543709264497149e-05\n",
      "3\n"
     ]
    },
    {
     "name": "stderr",
     "output_type": "stream",
     "text": [
      "100%|████████████████████████████████████████████████████████████████████████████████████████████████| 79/79 [00:23<00:00,  3.43it/s]\n",
      "  8%|███████▊                                                                                         | 4/50 [01:47<19:42, 25.71s/it]"
     ]
    },
    {
     "name": "stdout",
     "output_type": "stream",
     "text": [
      "Loss at Epoch 3 is 2.6513763271085033e-05\n",
      "4\n"
     ]
    },
    {
     "name": "stderr",
     "output_type": "stream",
     "text": [
      "100%|████████████████████████████████████████████████████████████████████████████████████████████████| 79/79 [00:22<00:00,  3.45it/s]\n",
      " 10%|█████████▋                                                                                       | 5/50 [02:10<18:31, 24.69s/it]"
     ]
    },
    {
     "name": "stdout",
     "output_type": "stream",
     "text": [
      "Loss at Epoch 4 is 2.478059468558058e-05\n",
      "5\n"
     ]
    },
    {
     "name": "stderr",
     "output_type": "stream",
     "text": [
      "100%|████████████████████████████████████████████████████████████████████████████████████████████████| 79/79 [00:22<00:00,  3.55it/s]\n",
      " 12%|███████████▋                                                                                     | 6/50 [02:32<17:29, 23.86s/it]"
     ]
    },
    {
     "name": "stdout",
     "output_type": "stream",
     "text": [
      "Loss at Epoch 5 is 1.9240308471194977e-05\n",
      "6\n"
     ]
    },
    {
     "name": "stderr",
     "output_type": "stream",
     "text": [
      "100%|████████████████████████████████████████████████████████████████████████████████████████████████| 79/79 [00:22<00:00,  3.54it/s]\n",
      " 14%|█████████████▌                                                                                   | 7/50 [02:54<16:44, 23.35s/it]"
     ]
    },
    {
     "name": "stdout",
     "output_type": "stream",
     "text": [
      "Loss at Epoch 6 is 1.6860245995292046e-05\n",
      "7\n"
     ]
    },
    {
     "name": "stderr",
     "output_type": "stream",
     "text": [
      "100%|████████████████████████████████████████████████████████████████████████████████████████████████| 79/79 [00:22<00:00,  3.49it/s]\n",
      " 16%|███████████████▌                                                                                 | 8/50 [03:17<16:11, 23.13s/it]"
     ]
    },
    {
     "name": "stdout",
     "output_type": "stream",
     "text": [
      "Loss at Epoch 7 is 1.5272544962637675e-05\n",
      "8\n"
     ]
    },
    {
     "name": "stderr",
     "output_type": "stream",
     "text": [
      "100%|████████████████████████████████████████████████████████████████████████████████████████████████| 79/79 [00:22<00:00,  3.49it/s]\n",
      " 18%|█████████████████▍                                                                               | 9/50 [03:39<15:42, 22.98s/it]"
     ]
    },
    {
     "name": "stdout",
     "output_type": "stream",
     "text": [
      "Loss at Epoch 8 is 1.3624777958411179e-05\n",
      "9\n"
     ]
    },
    {
     "name": "stderr",
     "output_type": "stream",
     "text": [
      "100%|████████████████████████████████████████████████████████████████████████████████████████████████| 79/79 [00:22<00:00,  3.57it/s]\n",
      " 20%|███████████████████▏                                                                            | 10/50 [04:02<15:09, 22.73s/it]"
     ]
    },
    {
     "name": "stdout",
     "output_type": "stream",
     "text": [
      "Loss at Epoch 9 is 1.1851925240920583e-05\n",
      "10\n"
     ]
    },
    {
     "name": "stderr",
     "output_type": "stream",
     "text": [
      "100%|████████████████████████████████████████████████████████████████████████████████████████████████| 79/79 [00:21<00:00,  3.63it/s]\n",
      " 22%|█████████████████████                                                                           | 11/50 [04:23<14:34, 22.43s/it]"
     ]
    },
    {
     "name": "stdout",
     "output_type": "stream",
     "text": [
      "Loss at Epoch 10 is 1.069536498521935e-05\n",
      "11\n"
     ]
    },
    {
     "name": "stderr",
     "output_type": "stream",
     "text": [
      "100%|████████████████████████████████████████████████████████████████████████████████████████████████| 79/79 [00:22<00:00,  3.49it/s]\n",
      " 24%|███████████████████████                                                                         | 12/50 [04:46<14:14, 22.49s/it]"
     ]
    },
    {
     "name": "stdout",
     "output_type": "stream",
     "text": [
      "Loss at Epoch 11 is 9.030271790327823e-06\n",
      "12\n"
     ]
    },
    {
     "name": "stderr",
     "output_type": "stream",
     "text": [
      "100%|████████████████████████████████████████████████████████████████████████████████████████████████| 79/79 [00:21<00:00,  3.65it/s]\n",
      " 26%|████████████████████████▉                                                                       | 13/50 [05:08<13:42, 22.23s/it]"
     ]
    },
    {
     "name": "stdout",
     "output_type": "stream",
     "text": [
      "Loss at Epoch 12 is 8.57039296096434e-06\n",
      "13\n"
     ]
    },
    {
     "name": "stderr",
     "output_type": "stream",
     "text": [
      "100%|████████████████████████████████████████████████████████████████████████████████████████████████| 79/79 [00:21<00:00,  3.64it/s]\n",
      " 28%|██████████████████████████▉                                                                     | 14/50 [05:29<13:14, 22.07s/it]"
     ]
    },
    {
     "name": "stdout",
     "output_type": "stream",
     "text": [
      "Loss at Epoch 13 is 7.113708445011738e-06\n",
      "14\n"
     ]
    },
    {
     "name": "stderr",
     "output_type": "stream",
     "text": [
      "100%|████████████████████████████████████████████████████████████████████████████████████████████████| 79/79 [00:22<00:00,  3.51it/s]\n",
      " 30%|████████████████████████████▊                                                                   | 15/50 [05:52<12:57, 22.20s/it]"
     ]
    },
    {
     "name": "stdout",
     "output_type": "stream",
     "text": [
      "Loss at Epoch 14 is 6.820176121770681e-06\n",
      "15\n"
     ]
    },
    {
     "name": "stderr",
     "output_type": "stream",
     "text": [
      "100%|████████████████████████████████████████████████████████████████████████████████████████████████| 79/79 [00:21<00:00,  3.63it/s]\n",
      " 32%|██████████████████████████████▋                                                                 | 16/50 [06:14<12:30, 22.07s/it]"
     ]
    },
    {
     "name": "stdout",
     "output_type": "stream",
     "text": [
      "Loss at Epoch 15 is 7.995270175630554e-06\n",
      "16\n"
     ]
    },
    {
     "name": "stderr",
     "output_type": "stream",
     "text": [
      "100%|████████████████████████████████████████████████████████████████████████████████████████████████| 79/79 [00:21<00:00,  3.61it/s]\n",
      " 34%|████████████████████████████████▋                                                               | 17/50 [06:35<12:06, 22.01s/it]"
     ]
    },
    {
     "name": "stdout",
     "output_type": "stream",
     "text": [
      "Loss at Epoch 16 is 6.058377470875298e-06\n",
      "17\n"
     ]
    },
    {
     "name": "stderr",
     "output_type": "stream",
     "text": [
      "100%|████████████████████████████████████████████████████████████████████████████████████████████████| 79/79 [00:21<00:00,  3.64it/s]\n",
      " 36%|██████████████████████████████████▌                                                             | 18/50 [06:57<11:41, 21.91s/it]"
     ]
    },
    {
     "name": "stdout",
     "output_type": "stream",
     "text": [
      "Loss at Epoch 17 is 5.641387504718157e-06\n",
      "18\n"
     ]
    },
    {
     "name": "stderr",
     "output_type": "stream",
     "text": [
      "100%|████████████████████████████████████████████████████████████████████████████████████████████████| 79/79 [00:21<00:00,  3.71it/s]\n",
      " 38%|████████████████████████████████████▍                                                           | 19/50 [07:18<11:13, 21.72s/it]"
     ]
    },
    {
     "name": "stdout",
     "output_type": "stream",
     "text": [
      "Loss at Epoch 18 is 5.798946783872015e-06\n",
      "19\n"
     ]
    },
    {
     "name": "stderr",
     "output_type": "stream",
     "text": [
      "100%|████████████████████████████████████████████████████████████████████████████████████████████████| 79/79 [00:22<00:00,  3.57it/s]\n",
      " 40%|██████████████████████████████████████▍                                                         | 20/50 [07:41<10:55, 21.85s/it]"
     ]
    },
    {
     "name": "stdout",
     "output_type": "stream",
     "text": [
      "Loss at Epoch 19 is 5.299215922892886e-06\n",
      "20\n"
     ]
    },
    {
     "name": "stderr",
     "output_type": "stream",
     "text": [
      "100%|████████████████████████████████████████████████████████████████████████████████████████████████| 79/79 [00:21<00:00,  3.61it/s]\n",
      " 42%|████████████████████████████████████████▎                                                       | 21/50 [08:03<10:34, 21.87s/it]"
     ]
    },
    {
     "name": "stdout",
     "output_type": "stream",
     "text": [
      "Loss at Epoch 20 is 5.1705220541891e-06\n",
      "21\n"
     ]
    },
    {
     "name": "stderr",
     "output_type": "stream",
     "text": [
      "100%|████████████████████████████████████████████████████████████████████████████████████████████████| 79/79 [00:22<00:00,  3.46it/s]\n",
      " 44%|██████████████████████████████████████████▏                                                     | 22/50 [08:25<10:20, 22.16s/it]"
     ]
    },
    {
     "name": "stdout",
     "output_type": "stream",
     "text": [
      "Loss at Epoch 21 is 4.6248192998236735e-06\n",
      "22\n"
     ]
    },
    {
     "name": "stderr",
     "output_type": "stream",
     "text": [
      "100%|████████████████████████████████████████████████████████████████████████████████████████████████| 79/79 [00:22<00:00,  3.59it/s]\n",
      " 46%|████████████████████████████████████████████▏                                                   | 23/50 [08:47<09:57, 22.12s/it]"
     ]
    },
    {
     "name": "stdout",
     "output_type": "stream",
     "text": [
      "Loss at Epoch 22 is 4.62854646523542e-06\n",
      "23\n"
     ]
    },
    {
     "name": "stderr",
     "output_type": "stream",
     "text": [
      "100%|████████████████████████████████████████████████████████████████████████████████████████████████| 79/79 [00:23<00:00,  3.36it/s]\n",
      " 48%|██████████████████████████████████████████████                                                  | 24/50 [09:11<09:45, 22.53s/it]"
     ]
    },
    {
     "name": "stdout",
     "output_type": "stream",
     "text": [
      "Loss at Epoch 23 is 4.452135404398742e-06\n",
      "24\n"
     ]
    },
    {
     "name": "stderr",
     "output_type": "stream",
     "text": [
      "100%|████████████████████████████████████████████████████████████████████████████████████████████████| 79/79 [00:22<00:00,  3.46it/s]\n",
      " 50%|████████████████████████████████████████████████                                                | 25/50 [09:34<09:25, 22.62s/it]"
     ]
    },
    {
     "name": "stdout",
     "output_type": "stream",
     "text": [
      "Loss at Epoch 24 is 4.072229995483811e-06\n",
      "25\n"
     ]
    },
    {
     "name": "stderr",
     "output_type": "stream",
     "text": [
      "100%|████████████████████████████████████████████████████████████████████████████████████████████████| 79/79 [00:22<00:00,  3.48it/s]\n",
      " 52%|█████████████████████████████████████████████████▉                                              | 26/50 [09:56<09:03, 22.64s/it]"
     ]
    },
    {
     "name": "stdout",
     "output_type": "stream",
     "text": [
      "Loss at Epoch 25 is 1.759526992517047e-05\n",
      "26\n"
     ]
    },
    {
     "name": "stderr",
     "output_type": "stream",
     "text": [
      "100%|████████████████████████████████████████████████████████████████████████████████████████████████| 79/79 [00:22<00:00,  3.53it/s]\n",
      " 54%|███████████████████████████████████████████████████▊                                            | 27/50 [10:19<08:39, 22.57s/it]"
     ]
    },
    {
     "name": "stdout",
     "output_type": "stream",
     "text": [
      "Loss at Epoch 26 is 5.656104450062679e-06\n",
      "27\n"
     ]
    },
    {
     "name": "stderr",
     "output_type": "stream",
     "text": [
      "100%|████████████████████████████████████████████████████████████████████████████████████████████████| 79/79 [00:21<00:00,  3.67it/s]\n",
      " 56%|█████████████████████████████████████████████████████▊                                          | 28/50 [10:40<08:09, 22.26s/it]"
     ]
    },
    {
     "name": "stdout",
     "output_type": "stream",
     "text": [
      "Loss at Epoch 27 is 4.245485109705338e-06\n",
      "28\n"
     ]
    },
    {
     "name": "stderr",
     "output_type": "stream",
     "text": [
      "100%|████████████████████████████████████████████████████████████████████████████████████████████████| 79/79 [00:20<00:00,  3.84it/s]\n",
      " 58%|███████████████████████████████████████████████████████▋                                        | 29/50 [11:01<07:36, 21.76s/it]"
     ]
    },
    {
     "name": "stdout",
     "output_type": "stream",
     "text": [
      "Loss at Epoch 28 is 3.8940399975482375e-06\n",
      "29\n"
     ]
    },
    {
     "name": "stderr",
     "output_type": "stream",
     "text": [
      "100%|████████████████████████████████████████████████████████████████████████████████████████████████| 79/79 [00:19<00:00,  3.99it/s]\n",
      " 60%|█████████████████████████████████████████████████████████▌                                      | 30/50 [11:21<07:03, 21.17s/it]"
     ]
    },
    {
     "name": "stdout",
     "output_type": "stream",
     "text": [
      "Loss at Epoch 29 is 3.6950379229823786e-06\n",
      "30\n"
     ]
    },
    {
     "name": "stderr",
     "output_type": "stream",
     "text": [
      "100%|████████████████████████████████████████████████████████████████████████████████████████████████| 79/79 [00:19<00:00,  4.03it/s]\n",
      " 62%|███████████████████████████████████████████████████████████▌                                    | 31/50 [11:40<06:33, 20.70s/it]"
     ]
    },
    {
     "name": "stdout",
     "output_type": "stream",
     "text": [
      "Loss at Epoch 30 is 3.6019498882616306e-06\n",
      "31\n"
     ]
    },
    {
     "name": "stderr",
     "output_type": "stream",
     "text": [
      "100%|████████████████████████████████████████████████████████████████████████████████████████████████| 79/79 [00:20<00:00,  3.85it/s]\n",
      " 64%|█████████████████████████████████████████████████████████████▍                                  | 32/50 [12:01<06:11, 20.66s/it]"
     ]
    },
    {
     "name": "stdout",
     "output_type": "stream",
     "text": [
      "Loss at Epoch 31 is 3.4285886999032877e-06\n",
      "32\n"
     ]
    },
    {
     "name": "stderr",
     "output_type": "stream",
     "text": [
      "100%|████████████████████████████████████████████████████████████████████████████████████████████████| 79/79 [00:20<00:00,  3.94it/s]\n",
      " 66%|███████████████████████████████████████████████████████████████▎                                | 33/50 [12:21<05:48, 20.47s/it]"
     ]
    },
    {
     "name": "stdout",
     "output_type": "stream",
     "text": [
      "Loss at Epoch 32 is 3.292379685113195e-06\n",
      "33\n"
     ]
    },
    {
     "name": "stderr",
     "output_type": "stream",
     "text": [
      "100%|████████████████████████████████████████████████████████████████████████████████████████████████| 79/79 [00:19<00:00,  4.01it/s]\n",
      " 68%|█████████████████████████████████████████████████████████████████▎                              | 34/50 [12:41<05:23, 20.24s/it]"
     ]
    },
    {
     "name": "stdout",
     "output_type": "stream",
     "text": [
      "Loss at Epoch 33 is 3.2095431436838354e-06\n",
      "34\n"
     ]
    },
    {
     "name": "stderr",
     "output_type": "stream",
     "text": [
      "100%|████████████████████████████████████████████████████████████████████████████████████████████████| 79/79 [00:19<00:00,  4.09it/s]\n",
      " 70%|███████████████████████████████████████████████████████████████████▏                            | 35/50 [13:00<04:59, 19.97s/it]"
     ]
    },
    {
     "name": "stdout",
     "output_type": "stream",
     "text": [
      "Loss at Epoch 34 is 3.168618086765261e-06\n",
      "35\n"
     ]
    },
    {
     "name": "stderr",
     "output_type": "stream",
     "text": [
      "100%|████████████████████████████████████████████████████████████████████████████████████████████████| 79/79 [00:19<00:00,  3.98it/s]\n",
      " 72%|█████████████████████████████████████████████████████████████████████                           | 36/50 [13:20<04:38, 19.93s/it]"
     ]
    },
    {
     "name": "stdout",
     "output_type": "stream",
     "text": [
      "Loss at Epoch 35 is 8.333434774198671e-06\n",
      "36\n"
     ]
    },
    {
     "name": "stderr",
     "output_type": "stream",
     "text": [
      "100%|████████████████████████████████████████████████████████████████████████████████████████████████| 79/79 [00:20<00:00,  3.88it/s]\n",
      " 74%|███████████████████████████████████████████████████████████████████████                         | 37/50 [13:40<04:20, 20.05s/it]"
     ]
    },
    {
     "name": "stdout",
     "output_type": "stream",
     "text": [
      "Loss at Epoch 36 is 3.3926846898091617e-06\n",
      "37\n"
     ]
    },
    {
     "name": "stderr",
     "output_type": "stream",
     "text": [
      "100%|████████████████████████████████████████████████████████████████████████████████████████████████| 79/79 [00:20<00:00,  3.80it/s]\n",
      " 76%|████████████████████████████████████████████████████████████████████████▉                       | 38/50 [14:01<04:03, 20.28s/it]"
     ]
    },
    {
     "name": "stdout",
     "output_type": "stream",
     "text": [
      "Loss at Epoch 37 is 3.39230642347951e-06\n",
      "38\n"
     ]
    },
    {
     "name": "stderr",
     "output_type": "stream",
     "text": [
      "100%|████████████████████████████████████████████████████████████████████████████████████████████████| 79/79 [00:21<00:00,  3.72it/s]\n",
      " 78%|██████████████████████████████████████████████████████████████████████████▉                     | 39/50 [14:22<03:46, 20.56s/it]"
     ]
    },
    {
     "name": "stdout",
     "output_type": "stream",
     "text": [
      "Loss at Epoch 38 is 2.916753903517457e-06\n",
      "39\n"
     ]
    },
    {
     "name": "stderr",
     "output_type": "stream",
     "text": [
      "100%|████████████████████████████████████████████████████████████████████████████████████████████████| 79/79 [00:19<00:00,  4.08it/s]\n",
      " 80%|████████████████████████████████████████████████████████████████████████████▊                   | 40/50 [14:42<03:22, 20.21s/it]"
     ]
    },
    {
     "name": "stdout",
     "output_type": "stream",
     "text": [
      "Loss at Epoch 39 is 2.901803606584531e-06\n",
      "40\n"
     ]
    },
    {
     "name": "stderr",
     "output_type": "stream",
     "text": [
      "100%|████████████████████████████████████████████████████████████████████████████████████████████████| 79/79 [00:19<00:00,  4.11it/s]\n",
      " 82%|██████████████████████████████████████████████████████████████████████████████▋                 | 41/50 [15:01<02:59, 19.92s/it]"
     ]
    },
    {
     "name": "stdout",
     "output_type": "stream",
     "text": [
      "Loss at Epoch 40 is 4.182074019498239e-06\n",
      "41\n"
     ]
    },
    {
     "name": "stderr",
     "output_type": "stream",
     "text": [
      "100%|████████████████████████████████████████████████████████████████████████████████████████████████| 79/79 [00:20<00:00,  3.82it/s]\n",
      " 84%|████████████████████████████████████████████████████████████████████████████████▋               | 42/50 [15:21<02:41, 20.15s/it]"
     ]
    },
    {
     "name": "stdout",
     "output_type": "stream",
     "text": [
      "Loss at Epoch 41 is 3.045308291423024e-06\n",
      "42\n"
     ]
    },
    {
     "name": "stderr",
     "output_type": "stream",
     "text": [
      "100%|████████████████████████████████████████████████████████████████████████████████████████████████| 79/79 [00:20<00:00,  3.92it/s]\n",
      " 86%|██████████████████████████████████████████████████████████████████████████████████▌             | 43/50 [15:42<02:21, 20.15s/it]"
     ]
    },
    {
     "name": "stdout",
     "output_type": "stream",
     "text": [
      "Loss at Epoch 42 is 2.685852165731249e-06\n",
      "43\n"
     ]
    },
    {
     "name": "stderr",
     "output_type": "stream",
     "text": [
      "100%|████████████████████████████████████████████████████████████████████████████████████████████████| 79/79 [00:20<00:00,  3.94it/s]\n",
      " 88%|████████████████████████████████████████████████████████████████████████████████████▍           | 44/50 [16:02<02:00, 20.12s/it]"
     ]
    },
    {
     "name": "stdout",
     "output_type": "stream",
     "text": [
      "Loss at Epoch 43 is 2.5858972589325093e-06\n",
      "44\n"
     ]
    },
    {
     "name": "stderr",
     "output_type": "stream",
     "text": [
      "100%|████████████████████████████████████████████████████████████████████████████████████████████████| 79/79 [00:19<00:00,  4.00it/s]\n",
      " 90%|██████████████████████████████████████████████████████████████████████████████████████▍         | 45/50 [16:21<01:40, 20.02s/it]"
     ]
    },
    {
     "name": "stdout",
     "output_type": "stream",
     "text": [
      "Loss at Epoch 44 is 3.338356173462441e-06\n",
      "45\n"
     ]
    },
    {
     "name": "stderr",
     "output_type": "stream",
     "text": [
      "100%|████████████████████████████████████████████████████████████████████████████████████████████████| 79/79 [00:19<00:00,  3.96it/s]\n",
      " 92%|████████████████████████████████████████████████████████████████████████████████████████▎       | 46/50 [16:41<01:19, 19.99s/it]"
     ]
    },
    {
     "name": "stdout",
     "output_type": "stream",
     "text": [
      "Loss at Epoch 45 is 2.774286688783164e-06\n",
      "46\n"
     ]
    },
    {
     "name": "stderr",
     "output_type": "stream",
     "text": [
      "100%|████████████████████████████████████████████████████████████████████████████████████████████████| 79/79 [00:20<00:00,  3.90it/s]\n",
      " 94%|██████████████████████████████████████████████████████████████████████████████████████████▏     | 47/50 [17:02<01:00, 20.08s/it]"
     ]
    },
    {
     "name": "stdout",
     "output_type": "stream",
     "text": [
      "Loss at Epoch 46 is 2.287043862106887e-06\n",
      "47\n"
     ]
    },
    {
     "name": "stderr",
     "output_type": "stream",
     "text": [
      "100%|████████████████████████████████████████████████████████████████████████████████████████████████| 79/79 [00:20<00:00,  3.85it/s]\n",
      " 96%|████████████████████████████████████████████████████████████████████████████████████████████▏   | 48/50 [17:22<00:40, 20.20s/it]"
     ]
    },
    {
     "name": "stdout",
     "output_type": "stream",
     "text": [
      "Loss at Epoch 47 is 2.251011105266726e-06\n",
      "48\n"
     ]
    },
    {
     "name": "stderr",
     "output_type": "stream",
     "text": [
      "100%|████████████████████████████████████████████████████████████████████████████████████████████████| 79/79 [00:19<00:00,  4.00it/s]\n",
      " 98%|██████████████████████████████████████████████████████████████████████████████████████████████  | 49/50 [17:42<00:20, 20.07s/it]"
     ]
    },
    {
     "name": "stdout",
     "output_type": "stream",
     "text": [
      "Loss at Epoch 48 is 2.3481307961665613e-06\n",
      "49\n"
     ]
    },
    {
     "name": "stderr",
     "output_type": "stream",
     "text": [
      "100%|████████████████████████████████████████████████████████████████████████████████████████████████| 79/79 [00:20<00:00,  3.86it/s]\n",
      "100%|████████████████████████████████████████████████████████████████████████████████████████████████| 50/50 [18:02<00:00, 21.66s/it]"
     ]
    },
    {
     "name": "stdout",
     "output_type": "stream",
     "text": [
      "Loss at Epoch 49 is 3.394654050922166e-06\n"
     ]
    },
    {
     "name": "stderr",
     "output_type": "stream",
     "text": [
      "\n"
     ]
    }
   ],
   "source": [
    "train() # tensorboard? train for longer"
   ]
  },
  {
   "cell_type": "code",
   "execution_count": 13,
   "id": "ff6c7bb3-f6fb-4406-a843-38e0d6eea8fd",
   "metadata": {},
   "outputs": [
    {
     "name": "stdout",
     "output_type": "stream",
     "text": [
      "TensorFlow installation not found - running with reduced feature set.\n",
      "/home/evan/conda/envs/06_instance_segmentation/lib/python3.8/site-packages/tensorboard_data_server/bin/server: /lib/x86_64-linux-gnu/libc.so.6: version `GLIBC_2.29' not found (required by /home/evan/conda/envs/06_instance_segmentation/lib/python3.8/site-packages/tensorboard_data_server/bin/server)\n",
      "/home/evan/conda/envs/06_instance_segmentation/lib/python3.8/site-packages/tensorboard_data_server/bin/server: /lib/x86_64-linux-gnu/libc.so.6: version `GLIBC_2.33' not found (required by /home/evan/conda/envs/06_instance_segmentation/lib/python3.8/site-packages/tensorboard_data_server/bin/server)\n",
      "/home/evan/conda/envs/06_instance_segmentation/lib/python3.8/site-packages/tensorboard_data_server/bin/server: /lib/x86_64-linux-gnu/libc.so.6: version `GLIBC_2.28' not found (required by /home/evan/conda/envs/06_instance_segmentation/lib/python3.8/site-packages/tensorboard_data_server/bin/server)\n",
      "/home/evan/conda/envs/06_instance_segmentation/lib/python3.8/site-packages/tensorboard_data_server/bin/server: /lib/x86_64-linux-gnu/libc.so.6: version `GLIBC_2.34' not found (required by /home/evan/conda/envs/06_instance_segmentation/lib/python3.8/site-packages/tensorboard_data_server/bin/server)\n",
      "/home/evan/conda/envs/06_instance_segmentation/lib/python3.8/site-packages/tensorboard_data_server/bin/server: /lib/x86_64-linux-gnu/libc.so.6: version `GLIBC_2.32' not found (required by /home/evan/conda/envs/06_instance_segmentation/lib/python3.8/site-packages/tensorboard_data_server/bin/server)\n",
      "Address already in use\n",
      "Port 6009 is in use by another program. Either identify and stop that program, or start the server with a different port.\n"
     ]
    }
   ],
   "source": [
    "# To view runs in tensorboard you can call either (uncommented):\n",
    "%reload_ext tensorboard\n",
    "!tensorboard --logdir logs --port 6009"
   ]
  },
  {
   "cell_type": "code",
   "execution_count": 23,
   "id": "f516742a-6fbc-4563-b403-63589d6234c9",
   "metadata": {},
   "outputs": [],
   "source": [
    "# Saving the model weights\n",
    "state = model.state_dict()\n",
    "filename = root_dir+'models/'+datetime.datetime.now().strftime(\"%Y%m%d-%H%M%S\")+'.pt'\n",
    "torch.save(state, filename)\n",
    "\n"
   ]
  },
  {
   "cell_type": "code",
   "execution_count": null,
   "id": "0545adbb-890e-403c-ab25-b41ba9b12ab1",
   "metadata": {},
   "outputs": [],
   "source": [
    "# Saving the latent space"
   ]
  },
  {
   "cell_type": "code",
   "execution_count": 15,
   "id": "f2a19111-65d6-4c23-b785-56f90a636689",
   "metadata": {},
   "outputs": [],
   "source": [
    "# To test: \n",
    "# Model depth, L1 loss"
   ]
  },
  {
   "cell_type": "code",
   "execution_count": null,
   "id": "f54e5e79-f881-44a5-855d-be65633c2667",
   "metadata": {},
   "outputs": [],
   "source": [
    "# To calculate: \n",
    "# IOU (segmentation performance), Pearson (reconstruction)"
   ]
  },
  {
   "cell_type": "code",
   "execution_count": null,
   "id": "ee30813c-4519-40e7-9032-083b2b0b91d8",
   "metadata": {},
   "outputs": [],
   "source": [
    "# UMAP "
   ]
  },
  {
   "cell_type": "code",
   "execution_count": null,
   "id": "1761480a-68b2-422a-aadb-d9506ec093b5",
   "metadata": {},
   "outputs": [],
   "source": [
    "# MOBIE "
   ]
  },
  {
   "cell_type": "code",
   "execution_count": null,
   "id": "a2bfa881-9316-4b67-ab63-a2101232ddc3",
   "metadata": {},
   "outputs": [],
   "source": []
  }
 ],
 "metadata": {
  "kernelspec": {
   "display_name": "Python [conda env:06_instance_segmentation]",
   "language": "python",
   "name": "conda-env-06_instance_segmentation-py"
  },
  "language_info": {
   "codemirror_mode": {
    "name": "ipython",
    "version": 3
   },
   "file_extension": ".py",
   "mimetype": "text/x-python",
   "name": "python",
   "nbconvert_exporter": "python",
   "pygments_lexer": "ipython3",
   "version": "3.8.13"
  }
 },
 "nbformat": 4,
 "nbformat_minor": 5
}
