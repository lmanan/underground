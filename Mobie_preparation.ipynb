{
 "cells": [
  {
   "cell_type": "markdown",
   "id": "bdeaba13-4e2a-4d66-964a-3ae0b2067659",
   "metadata": {},
   "source": [
    "# Preparing our data for use in Mobie "
   ]
  },
  {
   "cell_type": "code",
   "execution_count": 1,
   "id": "79f7af7f-fb5c-4032-a25c-0a4311fde7d4",
   "metadata": {},
   "outputs": [],
   "source": [
    "import os \n",
    "from glob import glob\n",
    "import tifffile\n",
    "import zarr \n",
    "from tqdm import tqdm"
   ]
  },
  {
   "cell_type": "code",
   "execution_count": 6,
   "id": "aabe2376-f006-4bbd-9712-3811a7611a34",
   "metadata": {},
   "outputs": [],
   "source": [
    "# Setting directories\n",
    "root_dir = '/mnt/efs/shared_data/instance_no_gt/20230830_TIF_cellpose_test/'\n",
    "mask_files = sorted(glob(os.path.join(root_dir, 'masks', '*.tif')))\n",
    "raw_tiles = sorted(glob(os.path.join(root_dir, 'raw_files', '*.tif')))"
   ]
  },
  {
   "cell_type": "markdown",
   "id": "e7679efe-f424-4c16-b126-f5d7819d3984",
   "metadata": {},
   "source": [
    "### Stitch"
   ]
  },
  {
   "cell_type": "code",
   "execution_count": 7,
   "id": "ec3b6297-39d2-4483-93a8-1d350fb7be02",
   "metadata": {},
   "outputs": [
    {
     "name": "stdout",
     "output_type": "stream",
     "text": [
      "(53280, 49920)\n"
     ]
    }
   ],
   "source": [
    "image_test = tifffile.imread(raw_tiles[599])\n",
    "tile_shape = image_test.shape\n",
    "\n",
    "# getting the full shape \n",
    "tiles_y = 26\n",
    "tiles_x = 37\n",
    "tiles_x * tiles_y == len(raw_tiles) # True !\n",
    "\n",
    "# computing big shape\n",
    "big_shape = (tiles_x * image_test.shape[0], tiles_y * image_test.shape[1])\n",
    "print(big_shape) # 37440, 71040 pixel image; why we need .zarr\n"
   ]
  },
  {
   "cell_type": "code",
   "execution_count": 2,
   "id": "d131f132-35e5-4a90-8da1-48297590af34",
   "metadata": {},
   "outputs": [
    {
     "ename": "NameError",
     "evalue": "name 'big_shape' is not defined",
     "output_type": "error",
     "traceback": [
      "\u001b[0;31m---------------------------------------------------------------------------\u001b[0m",
      "\u001b[0;31mNameError\u001b[0m                                 Traceback (most recent call last)",
      "Input \u001b[0;32mIn [2]\u001b[0m, in \u001b[0;36m<cell line: 6>\u001b[0;34m()\u001b[0m\n\u001b[1;32m      4\u001b[0m \u001b[38;5;66;03m# create new .zarr \u001b[39;00m\n\u001b[1;32m      5\u001b[0m zarrfile \u001b[38;5;241m=\u001b[39m zarr\u001b[38;5;241m.\u001b[39mopen(path_to_stitch, mode \u001b[38;5;241m=\u001b[39m \u001b[38;5;124m'\u001b[39m\u001b[38;5;124ma\u001b[39m\u001b[38;5;124m'\u001b[39m)\n\u001b[0;32m----> 6\u001b[0m zarr_image \u001b[38;5;241m=\u001b[39m zarrfile\u001b[38;5;241m.\u001b[39mcreate_dataset(\u001b[38;5;124m'\u001b[39m\u001b[38;5;124mimage\u001b[39m\u001b[38;5;124m'\u001b[39m, shape \u001b[38;5;241m=\u001b[39m \u001b[43mbig_shape\u001b[49m, chunks \u001b[38;5;241m=\u001b[39m image_test\u001b[38;5;241m.\u001b[39mshape, dtype \u001b[38;5;241m=\u001b[39m image_test\u001b[38;5;241m.\u001b[39mdtype)\n",
      "\u001b[0;31mNameError\u001b[0m: name 'big_shape' is not defined"
     ]
    }
   ],
   "source": [
    "# define PATH\n",
    "path_to_stitch = '/mnt/efs/shared_data/instance_no_gt/big_zarr/stitched_image_plane_6.zarr'\n",
    "\n",
    "# create new .zarr \n",
    "zarrfile = zarr.open(path_to_stitch, mode = 'a')\n",
    "zarr_image = zarrfile.create_dataset('image', shape = big_shape, chunks = image_test.shape, dtype = image_test.dtype)"
   ]
  },
  {
   "cell_type": "code",
   "execution_count": 11,
   "id": "cbc3fcb3-1be3-4e0e-a830-5f2abdefc208",
   "metadata": {},
   "outputs": [],
   "source": [
    "zarr_image = zarrfile[\"image\"]"
   ]
  },
  {
   "cell_type": "code",
   "execution_count": 13,
   "id": "06658a64-b905-44f7-80f9-0a7f174a5a15",
   "metadata": {},
   "outputs": [
    {
     "name": "stderr",
     "output_type": "stream",
     "text": [
      " 70%|██████████████████████████████████████████████████████████████████                            | 676/962 [01:12<00:30,  9.32it/s]\n"
     ]
    },
    {
     "ename": "ValueError",
     "evalue": "parameter 'value': expected array with shape (0, 1920), got (1440, 1920)",
     "output_type": "error",
     "traceback": [
      "\u001b[0;31m---------------------------------------------------------------------------\u001b[0m",
      "\u001b[0;31mValueError\u001b[0m                                Traceback (most recent call last)",
      "Input \u001b[0;32mIn [13]\u001b[0m, in \u001b[0;36m<cell line: 5>\u001b[0;34m()\u001b[0m\n\u001b[1;32m     13\u001b[0m index_x \u001b[38;5;241m=\u001b[39m tile_index_x \u001b[38;5;241m*\u001b[39m tile_shape[\u001b[38;5;241m1\u001b[39m]\n\u001b[1;32m     14\u001b[0m \u001b[38;5;66;03m# print(idx, \":\", tile_index_y, tile_index_x, \":\", index_y, index_x)\u001b[39;00m\n\u001b[1;32m     15\u001b[0m \u001b[38;5;66;03m# continue\u001b[39;00m\n\u001b[1;32m     16\u001b[0m \n\u001b[1;32m     17\u001b[0m \u001b[38;5;66;03m# time to write to .zarr\u001b[39;00m\n\u001b[0;32m---> 18\u001b[0m zarr_image[index_y:(image\u001b[38;5;241m.\u001b[39mshape[\u001b[38;5;241m0\u001b[39m]\u001b[38;5;241m+\u001b[39mindex_y),index_x:(image\u001b[38;5;241m.\u001b[39mshape[\u001b[38;5;241m1\u001b[39m]\u001b[38;5;241m+\u001b[39mindex_x)] \u001b[38;5;241m=\u001b[39m image\n",
      "File \u001b[0;32m~/conda/envs/06_instance_segmentation/lib/python3.8/site-packages/zarr/core.py:1353\u001b[0m, in \u001b[0;36mArray.__setitem__\u001b[0;34m(self, selection, value)\u001b[0m\n\u001b[1;32m   1351\u001b[0m     \u001b[38;5;28mself\u001b[39m\u001b[38;5;241m.\u001b[39mvindex[selection] \u001b[38;5;241m=\u001b[39m value\n\u001b[1;32m   1352\u001b[0m \u001b[38;5;28;01melse\u001b[39;00m:\n\u001b[0;32m-> 1353\u001b[0m     \u001b[38;5;28;43mself\u001b[39;49m\u001b[38;5;241;43m.\u001b[39;49m\u001b[43mset_basic_selection\u001b[49m\u001b[43m(\u001b[49m\u001b[43mpure_selection\u001b[49m\u001b[43m,\u001b[49m\u001b[43m \u001b[49m\u001b[43mvalue\u001b[49m\u001b[43m,\u001b[49m\u001b[43m \u001b[49m\u001b[43mfields\u001b[49m\u001b[38;5;241;43m=\u001b[39;49m\u001b[43mfields\u001b[49m\u001b[43m)\u001b[49m\n",
      "File \u001b[0;32m~/conda/envs/06_instance_segmentation/lib/python3.8/site-packages/zarr/core.py:1448\u001b[0m, in \u001b[0;36mArray.set_basic_selection\u001b[0;34m(self, selection, value, fields)\u001b[0m\n\u001b[1;32m   1446\u001b[0m     \u001b[38;5;28;01mreturn\u001b[39;00m \u001b[38;5;28mself\u001b[39m\u001b[38;5;241m.\u001b[39m_set_basic_selection_zd(selection, value, fields\u001b[38;5;241m=\u001b[39mfields)\n\u001b[1;32m   1447\u001b[0m \u001b[38;5;28;01melse\u001b[39;00m:\n\u001b[0;32m-> 1448\u001b[0m     \u001b[38;5;28;01mreturn\u001b[39;00m \u001b[38;5;28;43mself\u001b[39;49m\u001b[38;5;241;43m.\u001b[39;49m\u001b[43m_set_basic_selection_nd\u001b[49m\u001b[43m(\u001b[49m\u001b[43mselection\u001b[49m\u001b[43m,\u001b[49m\u001b[43m \u001b[49m\u001b[43mvalue\u001b[49m\u001b[43m,\u001b[49m\u001b[43m \u001b[49m\u001b[43mfields\u001b[49m\u001b[38;5;241;43m=\u001b[39;49m\u001b[43mfields\u001b[49m\u001b[43m)\u001b[49m\n",
      "File \u001b[0;32m~/conda/envs/06_instance_segmentation/lib/python3.8/site-packages/zarr/core.py:1748\u001b[0m, in \u001b[0;36mArray._set_basic_selection_nd\u001b[0;34m(self, selection, value, fields)\u001b[0m\n\u001b[1;32m   1742\u001b[0m \u001b[38;5;28;01mdef\u001b[39;00m \u001b[38;5;21m_set_basic_selection_nd\u001b[39m(\u001b[38;5;28mself\u001b[39m, selection, value, fields\u001b[38;5;241m=\u001b[39m\u001b[38;5;28;01mNone\u001b[39;00m):\n\u001b[1;32m   1743\u001b[0m     \u001b[38;5;66;03m# implementation of __setitem__ for array with at least one dimension\u001b[39;00m\n\u001b[1;32m   1744\u001b[0m \n\u001b[1;32m   1745\u001b[0m     \u001b[38;5;66;03m# setup indexer\u001b[39;00m\n\u001b[1;32m   1746\u001b[0m     indexer \u001b[38;5;241m=\u001b[39m BasicIndexer(selection, \u001b[38;5;28mself\u001b[39m)\n\u001b[0;32m-> 1748\u001b[0m     \u001b[38;5;28;43mself\u001b[39;49m\u001b[38;5;241;43m.\u001b[39;49m\u001b[43m_set_selection\u001b[49m\u001b[43m(\u001b[49m\u001b[43mindexer\u001b[49m\u001b[43m,\u001b[49m\u001b[43m \u001b[49m\u001b[43mvalue\u001b[49m\u001b[43m,\u001b[49m\u001b[43m \u001b[49m\u001b[43mfields\u001b[49m\u001b[38;5;241;43m=\u001b[39;49m\u001b[43mfields\u001b[49m\u001b[43m)\u001b[49m\n",
      "File \u001b[0;32m~/conda/envs/06_instance_segmentation/lib/python3.8/site-packages/zarr/core.py:1776\u001b[0m, in \u001b[0;36mArray._set_selection\u001b[0;34m(self, indexer, value, fields)\u001b[0m\n\u001b[1;32m   1774\u001b[0m     \u001b[38;5;28;01mif\u001b[39;00m \u001b[38;5;129;01mnot\u001b[39;00m \u001b[38;5;28mhasattr\u001b[39m(value, \u001b[38;5;124m'\u001b[39m\u001b[38;5;124mshape\u001b[39m\u001b[38;5;124m'\u001b[39m):\n\u001b[1;32m   1775\u001b[0m         value \u001b[38;5;241m=\u001b[39m np\u001b[38;5;241m.\u001b[39masanyarray(value)\n\u001b[0;32m-> 1776\u001b[0m     \u001b[43mcheck_array_shape\u001b[49m\u001b[43m(\u001b[49m\u001b[38;5;124;43m'\u001b[39;49m\u001b[38;5;124;43mvalue\u001b[39;49m\u001b[38;5;124;43m'\u001b[39;49m\u001b[43m,\u001b[49m\u001b[43m \u001b[49m\u001b[43mvalue\u001b[49m\u001b[43m,\u001b[49m\u001b[43m \u001b[49m\u001b[43msel_shape\u001b[49m\u001b[43m)\u001b[49m\n\u001b[1;32m   1778\u001b[0m \u001b[38;5;66;03m# iterate over chunks in range\u001b[39;00m\n\u001b[1;32m   1779\u001b[0m \u001b[38;5;28;01mif\u001b[39;00m \u001b[38;5;129;01mnot\u001b[39;00m \u001b[38;5;28mhasattr\u001b[39m(\u001b[38;5;28mself\u001b[39m\u001b[38;5;241m.\u001b[39mstore, \u001b[38;5;124m\"\u001b[39m\u001b[38;5;124msetitems\u001b[39m\u001b[38;5;124m\"\u001b[39m) \u001b[38;5;129;01mor\u001b[39;00m \u001b[38;5;28mself\u001b[39m\u001b[38;5;241m.\u001b[39m_synchronizer \u001b[38;5;129;01mis\u001b[39;00m \u001b[38;5;129;01mnot\u001b[39;00m \u001b[38;5;28;01mNone\u001b[39;00m \\\n\u001b[1;32m   1780\u001b[0m    \u001b[38;5;129;01mor\u001b[39;00m \u001b[38;5;28many\u001b[39m(\u001b[38;5;28mmap\u001b[39m(\u001b[38;5;28;01mlambda\u001b[39;00m x: x \u001b[38;5;241m==\u001b[39m \u001b[38;5;241m0\u001b[39m, \u001b[38;5;28mself\u001b[39m\u001b[38;5;241m.\u001b[39mshape)):\n\u001b[1;32m   1781\u001b[0m     \u001b[38;5;66;03m# iterative approach\u001b[39;00m\n",
      "File \u001b[0;32m~/conda/envs/06_instance_segmentation/lib/python3.8/site-packages/zarr/util.py:547\u001b[0m, in \u001b[0;36mcheck_array_shape\u001b[0;34m(param, array, shape)\u001b[0m\n\u001b[1;32m    544\u001b[0m     \u001b[38;5;28;01mraise\u001b[39;00m \u001b[38;5;167;01mTypeError\u001b[39;00m(\u001b[38;5;124m'\u001b[39m\u001b[38;5;124mparameter \u001b[39m\u001b[38;5;132;01m{!r}\u001b[39;00m\u001b[38;5;124m: expected an array-like object, got \u001b[39m\u001b[38;5;132;01m{!r}\u001b[39;00m\u001b[38;5;124m'\u001b[39m\n\u001b[1;32m    545\u001b[0m                     \u001b[38;5;241m.\u001b[39mformat(param, \u001b[38;5;28mtype\u001b[39m(array)))\n\u001b[1;32m    546\u001b[0m \u001b[38;5;28;01mif\u001b[39;00m array\u001b[38;5;241m.\u001b[39mshape \u001b[38;5;241m!=\u001b[39m shape:\n\u001b[0;32m--> 547\u001b[0m     \u001b[38;5;28;01mraise\u001b[39;00m \u001b[38;5;167;01mValueError\u001b[39;00m(\u001b[38;5;124m'\u001b[39m\u001b[38;5;124mparameter \u001b[39m\u001b[38;5;132;01m{!r}\u001b[39;00m\u001b[38;5;124m: expected array with shape \u001b[39m\u001b[38;5;132;01m{!r}\u001b[39;00m\u001b[38;5;124m, got \u001b[39m\u001b[38;5;132;01m{!r}\u001b[39;00m\u001b[38;5;124m'\u001b[39m\n\u001b[1;32m    548\u001b[0m                      \u001b[38;5;241m.\u001b[39mformat(param, shape, array\u001b[38;5;241m.\u001b[39mshape))\n",
      "\u001b[0;31mValueError\u001b[0m: parameter 'value': expected array with shape (0, 1920), got (1440, 1920)"
     ]
    }
   ],
   "source": [
    "# Defining sub-structures of the .zarr file \n",
    "\n",
    "# First, need to arrange the\n",
    "\n",
    "for idx, image in tqdm(enumerate(raw_tiles), total = len(raw_tiles), disable=False): \n",
    "    tile_index_y = idx // tiles_y\n",
    "    tile_index_x = idx % tiles_x \n",
    "\n",
    "    image = tifffile.imread(image)\n",
    "    \n",
    "    # translate tile indices to actual coordinate\n",
    "    index_y = tile_index_y * tile_shape[0]\n",
    "    index_x = tile_index_x * tile_shape[1]\n",
    "    # print(idx, \":\", tile_index_y, tile_index_x, \":\", index_y, index_x)\n",
    "    # continue\n",
    "    \n",
    "    # time to write to .zarr\n",
    "    zarr_image[index_y:(image.shape[0]+index_y),index_x:(image.shape[1]+index_x)] = image \n"
   ]
  },
  {
   "cell_type": "code",
   "execution_count": null,
   "id": "d5bba94d-a19b-4420-9e9f-73c15487a010",
   "metadata": {},
   "outputs": [],
   "source": [
    "# looking at it via napari\n",
    "import napari \n",
    "image = zarrfile['image']\n",
    "napari.view_image(image)\n",
    "napari.run()"
   ]
  },
  {
   "cell_type": "code",
   "execution_count": 4,
   "id": "e3a285f9-95b6-4646-a09d-045541f8e323",
   "metadata": {},
   "outputs": [
    {
     "ename": "ImportError",
     "evalue": "No Qt bindings could be found.\n\nnapari requires either PyQt5 or PySide2 to be installed in the environment.\nTo install the default backend (currently PyQt5), run \"pip install napari[all]\" \nYou may also use \"pip install napari[pyside2]\"for Pyside2, or \"pip install napari[pyqt5]\" for PyQt5",
     "output_type": "error",
     "traceback": [
      "\u001b[0;31m---------------------------------------------------------------------------\u001b[0m",
      "\u001b[0;31mQtBindingsNotFoundError\u001b[0m                   Traceback (most recent call last)",
      "File \u001b[0;32m~/conda/envs/06_instance_segmentation/lib/python3.8/site-packages/napari/_qt/__init__.py:8\u001b[0m, in \u001b[0;36m<module>\u001b[0;34m\u001b[0m\n\u001b[1;32m      7\u001b[0m \u001b[38;5;28;01mtry\u001b[39;00m:\n\u001b[0;32m----> 8\u001b[0m     \u001b[38;5;28;01mfrom\u001b[39;00m \u001b[38;5;21;01mqtpy\u001b[39;00m \u001b[38;5;28;01mimport\u001b[39;00m API_NAME, QtCore\n\u001b[1;32m      9\u001b[0m \u001b[38;5;28;01mexcept\u001b[39;00m \u001b[38;5;167;01mException\u001b[39;00m \u001b[38;5;28;01mas\u001b[39;00m e:\n",
      "File \u001b[0;32m~/conda/envs/06_instance_segmentation/lib/python3.8/site-packages/qtpy/__init__.py:287\u001b[0m, in \u001b[0;36m<module>\u001b[0;34m\u001b[0m\n\u001b[1;32m    286\u001b[0m \u001b[38;5;28;01mexcept\u001b[39;00m \u001b[38;5;167;01mImportError\u001b[39;00m:\n\u001b[0;32m--> 287\u001b[0m     \u001b[38;5;28;01mraise\u001b[39;00m QtBindingsNotFoundError \u001b[38;5;28;01mfrom\u001b[39;00m \u001b[38;5;28mNone\u001b[39m\n\u001b[1;32m    288\u001b[0m \u001b[38;5;28;01melse\u001b[39;00m:\n",
      "\u001b[0;31mQtBindingsNotFoundError\u001b[0m: No Qt bindings could be found",
      "\nThe above exception was the direct cause of the following exception:\n",
      "\u001b[0;31mImportError\u001b[0m                               Traceback (most recent call last)",
      "Input \u001b[0;32mIn [4]\u001b[0m, in \u001b[0;36m<cell line: 1>\u001b[0;34m()\u001b[0m\n\u001b[0;32m----> 1\u001b[0m \u001b[43mnapari\u001b[49m\u001b[38;5;241;43m.\u001b[39;49m\u001b[43mrun\u001b[49m\u001b[43m(\u001b[49m\u001b[43m)\u001b[49m\n",
      "File \u001b[0;32m~/conda/envs/06_instance_segmentation/lib/python3.8/site-packages/napari/_event_loop.py:12\u001b[0m, in \u001b[0;36mrun\u001b[0;34m(**kwargs)\u001b[0m\n\u001b[1;32m     11\u001b[0m \u001b[38;5;28;01mdef\u001b[39;00m \u001b[38;5;21mrun\u001b[39m(\u001b[38;5;241m*\u001b[39m\u001b[38;5;241m*\u001b[39mkwargs):\n\u001b[0;32m---> 12\u001b[0m     \u001b[38;5;28;01mraise\u001b[39;00m exc\n",
      "File \u001b[0;32m~/conda/envs/06_instance_segmentation/lib/python3.8/site-packages/napari/_event_loop.py:2\u001b[0m, in \u001b[0;36m<module>\u001b[0;34m\u001b[0m\n\u001b[1;32m      1\u001b[0m \u001b[38;5;28;01mtry\u001b[39;00m:\n\u001b[0;32m----> 2\u001b[0m     \u001b[38;5;28;01mfrom\u001b[39;00m \u001b[38;5;21;01mnapari\u001b[39;00m\u001b[38;5;21;01m.\u001b[39;00m\u001b[38;5;21;01m_qt\u001b[39;00m\u001b[38;5;21;01m.\u001b[39;00m\u001b[38;5;21;01mqt_event_loop\u001b[39;00m \u001b[38;5;28;01mimport\u001b[39;00m gui_qt, run\n\u001b[1;32m      4\u001b[0m \u001b[38;5;66;03m# qtpy raises a RuntimeError if no Qt bindings can be found\u001b[39;00m\n\u001b[1;32m      5\u001b[0m \u001b[38;5;28;01mexcept\u001b[39;00m (\u001b[38;5;167;01mImportError\u001b[39;00m, \u001b[38;5;167;01mRuntimeError\u001b[39;00m) \u001b[38;5;28;01mas\u001b[39;00m e:\n",
      "File \u001b[0;32m~/conda/envs/06_instance_segmentation/lib/python3.8/site-packages/napari/_qt/__init__.py:11\u001b[0m, in \u001b[0;36m<module>\u001b[0;34m\u001b[0m\n\u001b[1;32m      9\u001b[0m \u001b[38;5;28;01mexcept\u001b[39;00m \u001b[38;5;167;01mException\u001b[39;00m \u001b[38;5;28;01mas\u001b[39;00m e:\n\u001b[1;32m     10\u001b[0m     \u001b[38;5;28;01mif\u001b[39;00m \u001b[38;5;124m'\u001b[39m\u001b[38;5;124mNo Qt bindings could be found\u001b[39m\u001b[38;5;124m'\u001b[39m \u001b[38;5;129;01min\u001b[39;00m \u001b[38;5;28mstr\u001b[39m(e):\n\u001b[0;32m---> 11\u001b[0m         \u001b[38;5;28;01mraise\u001b[39;00m \u001b[38;5;167;01mImportError\u001b[39;00m(\n\u001b[1;32m     12\u001b[0m             trans\u001b[38;5;241m.\u001b[39m_(\n\u001b[1;32m     13\u001b[0m                 \u001b[38;5;124m'\u001b[39m\u001b[38;5;124mNo Qt bindings could be found.\u001b[39m\u001b[38;5;130;01m\\n\u001b[39;00m\u001b[38;5;130;01m\\n\u001b[39;00m\u001b[38;5;124mnapari requires either PyQt5 or PySide2 to be installed in the environment.\u001b[39m\u001b[38;5;130;01m\\n\u001b[39;00m\u001b[38;5;124mTo install the default backend (currently PyQt5), run \u001b[39m\u001b[38;5;124m\"\u001b[39m\u001b[38;5;124mpip install napari[all]\u001b[39m\u001b[38;5;124m\"\u001b[39m\u001b[38;5;124m \u001b[39m\u001b[38;5;130;01m\\n\u001b[39;00m\u001b[38;5;124mYou may also use \u001b[39m\u001b[38;5;124m\"\u001b[39m\u001b[38;5;124mpip install napari[pyside2]\u001b[39m\u001b[38;5;124m\"\u001b[39m\u001b[38;5;124mfor Pyside2, or \u001b[39m\u001b[38;5;124m\"\u001b[39m\u001b[38;5;124mpip install napari[pyqt5]\u001b[39m\u001b[38;5;124m\"\u001b[39m\u001b[38;5;124m for PyQt5\u001b[39m\u001b[38;5;124m'\u001b[39m,\n\u001b[1;32m     14\u001b[0m                 deferred\u001b[38;5;241m=\u001b[39m\u001b[38;5;28;01mTrue\u001b[39;00m,\n\u001b[1;32m     15\u001b[0m             )\n\u001b[1;32m     16\u001b[0m         ) \u001b[38;5;28;01mfrom\u001b[39;00m \u001b[38;5;21;01me\u001b[39;00m\n\u001b[1;32m     17\u001b[0m     \u001b[38;5;28;01mraise\u001b[39;00m\n\u001b[1;32m     20\u001b[0m \u001b[38;5;28;01mif\u001b[39;00m API_NAME \u001b[38;5;241m==\u001b[39m \u001b[38;5;124m'\u001b[39m\u001b[38;5;124mPySide2\u001b[39m\u001b[38;5;124m'\u001b[39m:\n\u001b[1;32m     21\u001b[0m     \u001b[38;5;66;03m# Set plugin path appropriately if using PySide2. This is a bug fix\u001b[39;00m\n\u001b[1;32m     22\u001b[0m     \u001b[38;5;66;03m# for when both PyQt5 and Pyside2 are installed\u001b[39;00m\n",
      "\u001b[0;31mImportError\u001b[0m: No Qt bindings could be found.\n\nnapari requires either PyQt5 or PySide2 to be installed in the environment.\nTo install the default backend (currently PyQt5), run \"pip install napari[all]\" \nYou may also use \"pip install napari[pyside2]\"for Pyside2, or \"pip install napari[pyqt5]\" for PyQt5"
     ]
    }
   ],
   "source": []
  }
 ],
 "metadata": {
  "kernelspec": {
   "display_name": "Python [conda env:06_instance_segmentation]",
   "language": "python",
   "name": "conda-env-06_instance_segmentation-py"
  },
  "language_info": {
   "codemirror_mode": {
    "name": "ipython",
    "version": 3
   },
   "file_extension": ".py",
   "mimetype": "text/x-python",
   "name": "python",
   "nbconvert_exporter": "python",
   "pygments_lexer": "ipython3",
   "version": "3.8.13"
  }
 },
 "nbformat": 4,
 "nbformat_minor": 5
}
